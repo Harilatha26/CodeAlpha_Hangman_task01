{
 "cells": [
  {
   "cell_type": "code",
   "execution_count": 1,
   "id": "5ef92f42-803c-4b06-b2ee-855c1bed6bc2",
   "metadata": {},
   "outputs": [
    {
     "name": "stdout",
     "output_type": "stream",
     "text": [
      "Welcome to Hangman!\n",
      "\n",
      "           -----\n",
      "           |   |\n",
      "                |\n",
      "                |\n",
      "                |\n",
      "                |\n",
      "        ---------\n",
      "        \n",
      "You have 6 tries left.\n",
      "Guessed letters:  \n",
      "Current word:  _ _ _ _ _ _ _ _ _ _ _\n"
     ]
    },
    {
     "name": "stdin",
     "output_type": "stream",
     "text": [
      "Guess a letter:  a\n"
     ]
    },
    {
     "name": "stdout",
     "output_type": "stream",
     "text": [
      "Good guess! 'a' is in the word.\n",
      "\n",
      "           -----\n",
      "           |   |\n",
      "                |\n",
      "                |\n",
      "                |\n",
      "                |\n",
      "        ---------\n",
      "        \n",
      "You have 6 tries left.\n",
      "Guessed letters:  a\n",
      "Current word:  _ _ _ _ _ a _ _ _ _ _\n"
     ]
    },
    {
     "name": "stdin",
     "output_type": "stream",
     "text": [
      "Guess a letter:  h\n"
     ]
    },
    {
     "name": "stdout",
     "output_type": "stream",
     "text": [
      "Wrong guess! 'h' is not in the word.\n",
      "\n",
      "           -----\n",
      "           |   |\n",
      "           O   |\n",
      "                |\n",
      "                |\n",
      "                |\n",
      "        ---------\n",
      "        \n",
      "You have 5 tries left.\n",
      "Guessed letters:  a h\n",
      "Current word:  _ _ _ _ _ a _ _ _ _ _\n"
     ]
    },
    {
     "name": "stdin",
     "output_type": "stream",
     "text": [
      "Guess a letter:  m\n"
     ]
    },
    {
     "name": "stdout",
     "output_type": "stream",
     "text": [
      "Good guess! 'm' is in the word.\n",
      "\n",
      "           -----\n",
      "           |   |\n",
      "           O   |\n",
      "                |\n",
      "                |\n",
      "                |\n",
      "        ---------\n",
      "        \n",
      "You have 5 tries left.\n",
      "Guessed letters:  a h m\n",
      "Current word:  _ _ _ _ _ a m m _ _ _\n"
     ]
    },
    {
     "name": "stdin",
     "output_type": "stream",
     "text": [
      "Guess a letter:  i\n"
     ]
    },
    {
     "name": "stdout",
     "output_type": "stream",
     "text": [
      "Good guess! 'i' is in the word.\n",
      "\n",
      "           -----\n",
      "           |   |\n",
      "           O   |\n",
      "                |\n",
      "                |\n",
      "                |\n",
      "        ---------\n",
      "        \n",
      "You have 5 tries left.\n",
      "Guessed letters:  a i h m\n",
      "Current word:  _ _ _ _ _ a m m i _ _\n"
     ]
    },
    {
     "name": "stdin",
     "output_type": "stream",
     "text": [
      "Guess a letter:  s\n"
     ]
    },
    {
     "name": "stdout",
     "output_type": "stream",
     "text": [
      "Wrong guess! 's' is not in the word.\n",
      "\n",
      "           -----\n",
      "           |   |\n",
      "           O   |\n",
      "           |   |\n",
      "                |\n",
      "                |\n",
      "        ---------\n",
      "        \n",
      "You have 4 tries left.\n",
      "Guessed letters:  a h m i s\n",
      "Current word:  _ _ _ _ _ a m m i _ _\n"
     ]
    },
    {
     "name": "stdin",
     "output_type": "stream",
     "text": [
      "Guess a letter:  l\n"
     ]
    },
    {
     "name": "stdout",
     "output_type": "stream",
     "text": [
      "Wrong guess! 'l' is not in the word.\n",
      "\n",
      "           -----\n",
      "           |   |\n",
      "           O   |\n",
      "          /|   |\n",
      "                |\n",
      "                |\n",
      "        ---------\n",
      "        \n",
      "You have 3 tries left.\n",
      "Guessed letters:  a h l m i s\n",
      "Current word:  _ _ _ _ _ a m m i _ _\n"
     ]
    },
    {
     "name": "stdin",
     "output_type": "stream",
     "text": [
      "Guess a letter:  u\n"
     ]
    },
    {
     "name": "stdout",
     "output_type": "stream",
     "text": [
      "Wrong guess! 'u' is not in the word.\n",
      "\n",
      "           -----\n",
      "           |   |\n",
      "           O   |\n",
      "          /|\\  |\n",
      "                |\n",
      "                |\n",
      "        ---------\n",
      "        \n",
      "You have 2 tries left.\n",
      "Guessed letters:  a h l u m i s\n",
      "Current word:  _ _ _ _ _ a m m i _ _\n"
     ]
    },
    {
     "name": "stdin",
     "output_type": "stream",
     "text": [
      "Guess a letter:  g\n"
     ]
    },
    {
     "name": "stdout",
     "output_type": "stream",
     "text": [
      "Good guess! 'g' is in the word.\n",
      "\n",
      "           -----\n",
      "           |   |\n",
      "           O   |\n",
      "          /|\\  |\n",
      "                |\n",
      "                |\n",
      "        ---------\n",
      "        \n",
      "You have 2 tries left.\n",
      "Guessed letters:  a h l u g m i s\n",
      "Current word:  _ _ _ g _ a m m i _ g\n"
     ]
    },
    {
     "name": "stdin",
     "output_type": "stream",
     "text": [
      "Guess a letter:  p\n"
     ]
    },
    {
     "name": "stdout",
     "output_type": "stream",
     "text": [
      "Good guess! 'p' is in the word.\n",
      "\n",
      "           -----\n",
      "           |   |\n",
      "           O   |\n",
      "          /|\\  |\n",
      "                |\n",
      "                |\n",
      "        ---------\n",
      "        \n",
      "You have 2 tries left.\n",
      "Guessed letters:  a h l u g m p i s\n",
      "Current word:  p _ _ g _ a m m i _ g\n"
     ]
    },
    {
     "name": "stdin",
     "output_type": "stream",
     "text": [
      "Guess a letter:  r\n"
     ]
    },
    {
     "name": "stdout",
     "output_type": "stream",
     "text": [
      "Good guess! 'r' is in the word.\n",
      "\n",
      "           -----\n",
      "           |   |\n",
      "           O   |\n",
      "          /|\\  |\n",
      "                |\n",
      "                |\n",
      "        ---------\n",
      "        \n",
      "You have 2 tries left.\n",
      "Guessed letters:  a r h l u g m p i s\n",
      "Current word:  p r _ g r a m m i _ g\n"
     ]
    },
    {
     "name": "stdin",
     "output_type": "stream",
     "text": [
      "Guess a letter:  o\n"
     ]
    },
    {
     "name": "stdout",
     "output_type": "stream",
     "text": [
      "Good guess! 'o' is in the word.\n",
      "\n",
      "           -----\n",
      "           |   |\n",
      "           O   |\n",
      "          /|\\  |\n",
      "                |\n",
      "                |\n",
      "        ---------\n",
      "        \n",
      "You have 2 tries left.\n",
      "Guessed letters:  a r o h l u g m p i s\n",
      "Current word:  p r o g r a m m i _ g\n"
     ]
    },
    {
     "name": "stdin",
     "output_type": "stream",
     "text": [
      "Guess a letter:  n\n"
     ]
    },
    {
     "name": "stdout",
     "output_type": "stream",
     "text": [
      "Good guess! 'n' is in the word.\n",
      "Congratulations! You guessed the word 'programming'.\n"
     ]
    }
   ],
   "source": [
    "import random\n",
    "\n",
    "# List of words for the game\n",
    "word_list = [\"python\", \"java\", \"swift\", \"hangman\", \"programming\", \"algorithm\"]\n",
    "\n",
    "def choose_word():\n",
    "    return random.choice(word_list)\n",
    "\n",
    "def display_hangman(tries):\n",
    "    stages = [\n",
    "        \"\"\"\n",
    "           -----\n",
    "           |   |\n",
    "           O   |\n",
    "          /|\\\\  |\n",
    "          / \\\\  |\n",
    "                |\n",
    "        ---------\n",
    "        \"\"\",\n",
    "        \"\"\"\n",
    "           -----\n",
    "           |   |\n",
    "           O   |\n",
    "          /|\\\\  |\n",
    "          /    |\n",
    "                |\n",
    "        ---------\n",
    "        \"\"\",\n",
    "        \"\"\"\n",
    "           -----\n",
    "           |   |\n",
    "           O   |\n",
    "          /|\\\\  |\n",
    "                |\n",
    "                |\n",
    "        ---------\n",
    "        \"\"\",\n",
    "        \"\"\"\n",
    "           -----\n",
    "           |   |\n",
    "           O   |\n",
    "          /|   |\n",
    "                |\n",
    "                |\n",
    "        ---------\n",
    "        \"\"\",\n",
    "        \"\"\"\n",
    "           -----\n",
    "           |   |\n",
    "           O   |\n",
    "           |   |\n",
    "                |\n",
    "                |\n",
    "        ---------\n",
    "        \"\"\",\n",
    "        \"\"\"\n",
    "           -----\n",
    "           |   |\n",
    "           O   |\n",
    "                |\n",
    "                |\n",
    "                |\n",
    "        ---------\n",
    "        \"\"\",\n",
    "        \"\"\"\n",
    "           -----\n",
    "           |   |\n",
    "                |\n",
    "                |\n",
    "                |\n",
    "                |\n",
    "        ---------\n",
    "        \"\"\"\n",
    "    ]\n",
    "    return stages[tries]\n",
    "\n",
    "def play_hangman():\n",
    "    word = choose_word()\n",
    "    word_letters = set(word)  # letters in the word\n",
    "    alphabet = set('abcdefghijklmnopqrstuvwxyz')\n",
    "    guessed_letters = set()  # user's guessed letters\n",
    "\n",
    "    tries = 6\n",
    "\n",
    "    print(\"Welcome to Hangman!\")\n",
    "    while len(word_letters) > 0 and tries > 0:\n",
    "        print(display_hangman(tries))\n",
    "        print(f\"You have {tries} tries left.\")\n",
    "        print(\"Guessed letters: \", ' '.join(guessed_letters))\n",
    "        \n",
    "        # Display current word state\n",
    "        word_display = [letter if letter in guessed_letters else '_' for letter in word]\n",
    "        print(\"Current word: \", ' '.join(word_display))\n",
    "\n",
    "        guess = input(\"Guess a letter: \").lower()\n",
    "        if guess in alphabet - guessed_letters:\n",
    "            guessed_letters.add(guess)\n",
    "            if guess in word_letters:\n",
    "                word_letters.remove(guess)\n",
    "                print(f\"Good guess! '{guess}' is in the word.\")\n",
    "            else:\n",
    "                tries -= 1\n",
    "                print(f\"Wrong guess! '{guess}' is not in the word.\")\n",
    "        elif guess in guessed_letters:\n",
    "            print(\"You already guessed that letter. Try again.\")\n",
    "        else:\n",
    "            print(\"Invalid input. Please enter a valid letter.\")\n",
    "    \n",
    "    if tries == 0:\n",
    "        print(display_hangman(tries))\n",
    "        print(f\"Sorry, you lost! The word was '{word}'.\")\n",
    "    else:\n",
    "        print(f\"Congratulations! You guessed the word '{word}'.\")\n",
    "\n",
    "# Run the game\n",
    "play_hangman()\n"
   ]
  }
 ],
 "metadata": {
  "kernelspec": {
   "display_name": "Python 3 (ipykernel)",
   "language": "python",
   "name": "python3"
  },
  "language_info": {
   "codemirror_mode": {
    "name": "ipython",
    "version": 3
   },
   "file_extension": ".py",
   "mimetype": "text/x-python",
   "name": "python",
   "nbconvert_exporter": "python",
   "pygments_lexer": "ipython3",
   "version": "3.11.7"
  }
 },
 "nbformat": 4,
 "nbformat_minor": 5
}
